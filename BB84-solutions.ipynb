{
 "cells": [
  {
   "cell_type": "markdown",
   "metadata": {},
   "source": [
    "# Quantum Cryptography : BB84 protocol \n",
    "\n",
    "**[BB84](https://en.wikipedia.org/wiki/BB84)** protocol was set up in 1984 by one of our famous IBM'ers Charles Bennett with his colleague Gilles Brassard. \n",
    "It has been experimented a few years later in the first demonstration of quantum key distribution  : [quantum key distribution](https://en.wikipedia.org/wiki/Quantum_key_distribution) by Charles Bennett and John Smolin in IBM [C. H. Bennett, F. Bessette, G. Brassard, L. Salvail, and J. Smolin, J. of Cryptography **5**, 3 (1992) ]. Charles and John are still part of the quantum IBM team. \n",
    "\n",
    "<img src=\"charlie_john_qkd.jpg\" width=\"500\"/>\n",
    "<center>Charles Bennett and John Smolin at T.J. Watson IBM research center.</center>\n",
    "\n",
    "BB84 protocol allows to communicate a cryptographie key from one point to another and knowing that it has not been compromised. \n",
    "\n",
    "\n",
    "## BB84 Protocol \n",
    "\n",
    "The steps are the following : \n",
    "\n",
    "1. Alice chooses two random bit strings of length  $n$ : $k$ and $b$. The list $k$ has the key value. The list $b$ represents the bases choice for Alice to encode the bits of $k$. When  $b_i=0$ (meaning if the  $i^{th}$ base bit is zero ), she encodes the $i^{th}$ qubit in the standard base $\\{|0\\rangle, |1\\rangle \\}$, and if $b_i=1$, she uses the base  $\\{|+\\rangle, |-\\rangle \\}$, where $|+\\rangle:=\\frac{1}{\\sqrt{2}}(|0\\rangle +|1\\rangle)$, $|-\\rangle:=\\frac{1}{\\sqrt{2}}(|0\\rangle -|1\\rangle)$. \n",
    "\n",
    "This can be showned as follows : \n",
    "\n",
    "\n",
    "<img src=\"encoding_Alice.png\" alt=\"drawing\" width=\"300\"/>\n",
    "\n",
    "2. After endoding $n$ bits, Alice sends them to Bob. He chooses a random bit string $\\tilde{b}$ of length $n$ for the measurement bases he will be using.. Bob records his measurement results  $\\tilde{k_i}$ along with the bases used $\\tilde{b_i}$, in an array.\n",
    "\n",
    "3. Then Alice and Bob compare their bases $b_i$ and $\\tilde{b}_i$. Whenever  $b_i \\neq \\tilde{b}_i$, Bob did not measure in the same base Alice did encode. The probability of having measured the correct value for $k_i$ is $\\frac{1}{2}$, in this case this position is discarded. Howeever, if $b_i = \\tilde{b}_i$, then the qubit was preepared and measured in the same basis (and if noboby did spy on the communication) Bob did measure a correct value : $\\tilde{k}_i = k_i$. These values make the key \n",
    "\n",
    "## Example : \n",
    "\n",
    "Let's assume Alice random key value is :  $k=`0111001`$ and her bases choice : $b=`1101000`$, and let's assume Bob's bases are : $\\tilde{b}=`1001101`$. Look at the values below and note that when bases eare not hte same Bob has one chance out of two to get a correct measurement. \n",
    "<img src=\"example_bb84.png\" alt=\"drawing\" width=\"500\"/>\n",
    "\n",
    "In this case, the key is '0110', and to know if it has been seen by Eve, Alice and Bob will have to sacrifice some of theses bits. If a measurement was made during the distribution, le qubit state would have change with probability $\\frac{1}{4}$. By verifying $m$ bits values, the probability of not detecting Eve decays as $\\left(\\frac{3}{4}\\right)^m$. So if the verify enough bits, they will gain confidence that Eve did not spy. \n",
    "\n",
    "### Message encryption\n",
    "\n",
    "One the key is known and secretely has been secretly distributed, Alice and Bob can use it very easily  :  [Masque Jetable](https://fr.wikipedia.org/wiki/Masque_jetable) : Alice just adds bitwise modulo 2 the two lists.  (in other words she performs bitwise XOR). With the above example, key is $\\text{key}=`0110`$. Secret message is $m=`1100`$, so encrypted message is : $c=m\\oplus \\text{key (mod 2)} = `1010`$. Bob can decipher in doing the same thing : add the key to the message : $m=c\\oplus \\text{key (mod 2)}$.\n",
    "\n",
    "## workshop : \n",
    "\n",
    "In this notebook you will be in Bob's role, and with Alice you will generate a key unsing BB84 protocol, then you will beable to decodee Alice's message.\n",
    "\n",
    "---\n",
    "\n",
    "There will be 4 steps : \n",
    "\n",
    "1. Alice prepares her key and bases. The function (provided) `alice_prepare_qubit` is used to send to you the qubits states. \n",
    "\n",
    "2. Bob (you) measure the recevied qubit states in your basis list, you will have to code the function  `build_bob_measure_circuit`. This function receives an index to point in the qubits and in Bob's basis list as well as in the quantum circuit list (which has prepared Alice's qubit state). The function returns a quantum circuit which can be appended to Alice's circuit used to prepare her qubit. Bob circuit simply performs a measure about Bob's base, for each index position. \n",
    "\n",
    "3. Then you will have to build the code for making the key Alice and Bob will agree on (by discarding the values that have been emitted and received on non identical basis).\n",
    "\n",
    "4. Finally, we will be able to write the function to decipher Alice's massage with the key. You generate a bit string, which is a morse code text, you will need to make it readable. \n",
    "\n",
    "---\n",
    "\n",
    "This workhop is derived from the IBM Quantum Computing Challenge, on may 4th, 2020. "
   ]
  },
  {
   "cell_type": "markdown",
   "metadata": {},
   "source": [
    "### Setup"
   ]
  },
  {
   "cell_type": "code",
   "execution_count": 1,
   "metadata": {
    "scrolled": true
   },
   "outputs": [],
   "source": [
    "# import libraries\n",
    "import BB84HO\n",
    "from random import randint\n",
    "from qiskit import QuantumCircuit, execute, Aer\n",
    "backend = Aer.get_backend('qasm_simulator')\n",
    "\n",
    "bases_length = 1500"
   ]
  },
  {
   "cell_type": "markdown",
   "metadata": {},
   "source": [
    "### Alice prepares her key and her bases"
   ]
  },
  {
   "cell_type": "code",
   "execution_count": 2,
   "metadata": {
    "scrolled": true
   },
   "outputs": [],
   "source": [
    "# clef aléatoire\n",
    "alice_key = \"\"\n",
    "for i in range(bases_length): \n",
    "    alice_key += str(randint(0,1))\n",
    "\n",
    "# bases aléatoires\n",
    "alice_bases = \"\"\n",
    "for i in range(bases_length):\n",
    "    if randint(0,1):\n",
    "        alice_bases += \"z\"\n",
    "    else:\n",
    "        alice_bases += \"x\""
   ]
  },
  {
   "cell_type": "markdown",
   "metadata": {},
   "source": [
    "### Bob prepares his bases : "
   ]
  },
  {
   "cell_type": "code",
   "execution_count": 3,
   "metadata": {
    "scrolled": true
   },
   "outputs": [
    {
     "name": "stdout",
     "output_type": "stream",
     "text": [
      "Bob's bases : xzzzxzxxxzzzxzxxzxxzzxzxzzzzxxzzzxxxzxzzxzzzzxxxzzzxzxzzxzxxxzzxzxzzxxzxzxzxzzzzzxzzzxxzxxxzzzxzzxxzxzxxxxzzzzzxxzzxzzxxxxzxxxxxxzzzxzzzzzxxxxzzxxxzxzxxxzzzzzxzzzzzzzxzzzxzxxxxzzzxzxxzxxxxxzzxxzzzzxxxxzxxzxxxxzzxzzzxxxzzzxxxzzzxxxzzxxxzxzzzzzxzxzxxzzxxxxxzxxxxxxxzzxzzzzzzxxxzzxzzxxzxxzxzxzxzzzxxzzxzxxzxxzzxxzzxxxxxxzxxzzxxzzzxxxzzxxxzzzzxxzzxxxzxxxxxxxzzxzxzzxxzxzxzxzxxxxzzxxzxzzxxzzxxzxzxxxxxxzzzzxxxzxzzxzzxxxxxzxzzxxzzxzxzzzxxxxxxxxxxxxxxxxxxzxxxxzzxzxzzxzxxxzxzxxxxxzzzzzzxzzxxzxxzxzxxzzzxxxxxzzzzzxzxzzxxxxzxxxzzxzxxxxzzzzzzzzzxzxzzzxxzzzxxxxzxzzzzxzxzzzxxzxxzxzzxzxxzxzzxzzxxzzzzxxzxzxxxxxzxzxzxxxxxxxzzxxxxzzzxxxzzxzzzxxxzzzxzxxxzzzzxxxxxxzzxzxzxzzxzxzxzxxxxxxxzzxxxzxzxzxxzzzxzzxxzxzxzzxxxxxxzxxxzzxzxzxxxxxzzzxxxxxxzzzxzxzxxzxzxzxzzxzzxzzzzzxxzzxzzzzzxxxzxxzzzxzzzxxxxxzzzxxzxzxxxxxzzxzxxzzxxzxxxxzxxxzxxzxzzxzxxxzzxxzxxxzzzzxzzzzxzxxzzxxxzzzxzxzzxxxzzxxxzzzxxxzzzxzzxzxzzzzzzzzxzxzzzxxxzzxzzzzzxzxxzzxxzzzxxxzxxxxxxxxxzzxzzzxxzzzzxxxzzzxzxzzxxxxxzzzxzzzzzxxzxzzxxzzzxxzxzzxzxzxzxxzzxzxzxzxzxxxxzzxzzzxxxxzzzxzxxxzxzzxxzxzzzzzzxxxzzxxzzzxxzxzxzzzxzzxxxzxxxzxxxxzzxzxxzxxzzxzxxzxxxxzxzxxxxzzzzzxxxxzxzzxxxzzxxxxzzzxzzxzxxzzzzzxxxzzxxzxxxzxzzxxxxxxzzzzxxxxzzzzxzxxzxxxxxzzxxzzxzxxzzzzzxzxxxxxxxxxxzzxxxxzzzzzzzxzzxzxzxxzxzzxxxxxzzxxxxxzxxxzxxxxxxzzzxxzzxxxzzxxzxzxzzxxxxxxzzzxxxzzxxxzxxxxzxxxxxxzxxzxxzxxxxzxzzzzzxxzzzzzxzxzzzzxzxxzzzzxxxxzxxzxxxzxzxxzzzzzzxzzxxzxzzzxxzxzxxzxzzzzxxzzxzzzxxzxxzxxxxzxzzxzzzzzxzxxzxxzxzzxxxzzzzxzxxxzxxzzzxzxxzzzxxzxzxzzxzxzzxzxzxxxxzxxzxzzzzzxxzzzxzzxxxxzxx\n"
     ]
    }
   ],
   "source": [
    "bob_bases = \"\"\n",
    "for i in range(bases_length):\n",
    "    if randint(0,1):\n",
    "        bob_bases += \"z\"\n",
    "    else:\n",
    "        bob_bases += \"x\"\n",
    "        \n",
    "print('Bob\\'s bases :', bob_bases)"
   ]
  },
  {
   "cell_type": "markdown",
   "metadata": {},
   "source": [
    "### Now Bob performs the measurements (with his bases) on states prepared by Alice (with her key and bases): \n"
   ]
  },
  {
   "cell_type": "code",
   "execution_count": 4,
   "metadata": {},
   "outputs": [
    {
     "name": "stdout",
     "output_type": "stream",
     "text": [
      "Bob's bases: xzzzxzxxxzzzxzxxzxxzzxzxzzzzxxzzzxxxzxzzxzzzzxxxzzzxzxzzxzxxxzzxzxzzxxzxzxzxzzzzzxzzzxxzxxxzzzxzzxxzxzxxxxzzzzzxxzzxzzxxxxzxxxxxxzzzxzzzzzxxxxzzxxxzxzxxxzzzzzxzzzzzzzxzzzxzxxxxzzzxzxxzxxxxxzzxxzzzzxxxxzxxzxxxxzzxzzzxxxzzzxxxzzzxxxzzxxxzxzzzzzxzxzxxzzxxxxxzxxxxxxxzzxzzzzzzxxxzzxzzxxzxxzxzxzxzzzxxzzxzxxzxxzzxxzzxxxxxxzxxzzxxzzzxxxzzxxxzzzzxxzzxxxzxxxxxxxzzxzxzzxxzxzxzxzxxxxzzxxzxzzxxzzxxzxzxxxxxxzzzzxxxzxzzxzzxxxxxzxzzxxzzxzxzzzxxxxxxxxxxxxxxxxxxzxxxxzzxzxzzxzxxxzxzxxxxxzzzzzzxzzxxzxxzxzxxzzzxxxxxzzzzzxzxzzxxxxzxxxzzxzxxxxzzzzzzzzzxzxzzzxxzzzxxxxzxzzzzxzxzzzxxzxxzxzzxzxxzxzzxzzxxzzzzxxzxzxxxxxzxzxzxxxxxxxzzxxxxzzzxxxzzxzzzxxxzzzxzxxxzzzzxxxxxxzzxzxzxzzxzxzxzxxxxxxxzzxxxzxzxzxxzzzxzzxxzxzxzzxxxxxxzxxxzzxzxzxxxxxzzzxxxxxxzzzxzxzxxzxzxzxzzxzzxzzzzzxxzzxzzzzzxxxzxxzzzxzzzxxxxxzzzxxzxzxxxxxzzxzxxzzxxzxxxxzxxxzxxzxzzxzxxxzzxxzxxxzzzzxzzzzxzxxzzxxxzzzxzxzzxxxzzxxxzzzxxxzzzxzzxzxzzzzzzzzxzxzzzxxxzzxzzzzzxzxxzzxxzzzxxxzxxxxxxxxxzzxzzzxxzzzzxxxzzzxzxzzxxxxxzzzxzzzzzxxzxzzxxzzzxxzxzzxzxzxzxxzzxzxzxzxzxxxxzzxzzzxxxxzzzxzxxxzxzzxxzxzzzzzzxxxzzxxzzzxxzxzxzzzxzzxxxzxxxzxxxxzzxzxxzxxzzxzxxzxxxxzxzxxxxzzzzzxxxxzxzzxxxzzxxxxzzzxzzxzxxzzzzzxxxzzxxzxxxzxzzxxxxxxzzzzxxxxzzzzxzxxzxxxxxzzxxzzxzxxzzzzzxzxxxxxxxxxxzzxxxxzzzzzzzxzzxzxzxxzxzzxxxxxzzxxxxxzxxxzxxxxxxzzzxxzzxxxzzxxzxzxzzxxxxxxzzzxxxzzxxxzxxxxzxxxxxxzxxzxxzxxxxzxzzzzzxxzzzzzxzxzzzzxzxxzzzzxxxxzxxzxxxzxzxxzzzzzzxzzxxzxzzzxxzxzxxzxzzzzxxzzxzzzxxzxxzxxxxzxzzxzzzzzxzxxzxxzxzzxxxzzzzxzxxxzxxzzzxzxxzzzxxzxzxzzxzxzzxzxzxxxxzxxzxzzzzzxxzzzxzzxxxxzxx\n",
      "Bob's bits:  001100100010110111010011111000100100111011101101011010101000111000000011000111010010110101110010110010100001110111011001010001110011101000011000100110000011010100101011011100100011000101001101001001010110011111001001110001100010011101010010110011010111111100110101000110101101010010101010110101101100111011111111011001111010000001010100111000010100100100000101011110001111110010001101101010100000111110001010011101100011010011000100110011000110010101100000110100111001000000101011011011010110000101000000101010000000111101110010010011010101100011010011001011110000000000010011000100100100010101001000011101011111001100111111111010011110010100000111100110010010111101100111101001110001011110010001100110100110100110111111011011011000010000001101001001101000011001001001100001011000011010110101110111101011010110000010001001001101101110100000100000111001000111111110111111000101110110111011111100101100011101010111100000000011010001000010100011101101000001000101010011010101010001111110100110001001110001001111001011100111101111100100000111010011001011011100010110010010100011010011001111111110010010001001001010100011100011010001011101000001010101111001110111001101000111100001100001011011001011100101111001110011011101011001100011100000001100100011000100110100111001100110011000010111000111001010001110011101111001110100111110011110110011100101000101100010001000001100101100010111000101010101101001001100111101010100101010110110111011111000101000110111010000001100101110100000110111100011000101000010\n"
     ]
    }
   ],
   "source": [
    "bob_results = \"\"\n",
    "\n",
    "def bb84():\n",
    "    print('Bob\\'s bases:', bob_bases)\n",
    "\n",
    "    # Maintenant Alice prépare ses qubits, un par un en utilisant ses bases, \n",
    "    # Bob les mesure, en utilisant ses propres bases.\n",
    "    bob_results = \"\"\n",
    "    \n",
    "    # pour chaque bit\n",
    "    for index in range(bases_length):\n",
    "        # Alice crée l'état de son qubit\n",
    "        thisqubit_circuit = BB84HO.prepare_alice_qubit(index, alice_bases, alice_key)\n",
    "        \n",
    "        # Bob prépare la lecture (c'est la fonction à coder ci-dessous) \n",
    "        bob_measure = build_bob_measure_circuit(index, bob_bases, thisqubit_circuit)\n",
    "        \n",
    "        # maintenant on utilise le simulateur pour éxecuter le circuit et on effectue\n",
    "        # la mesure\n",
    "        bob_job = execute(bob_measure, backend=backend, shots=1)\n",
    "        bob_reading = bob_job.result()\n",
    "        \n",
    "        # pour chaque résultat (dict, on le transforme en liste et on prend le premier élément : \n",
    "        # la valeur de mesure pour le qubit\n",
    "        bob_results += list(bob_reading.get_counts(bob_measure))[0]\n",
    "    return bob_results\n",
    "\n",
    "# Ecrire cette fonction : \n",
    "# pour compléter un circuit utilisant 1 qubit : qc envoyé par Alice de manière à \n",
    "# pour effectuer la mesure en utilisant l'orientation de la base à l'index \"index\" de Bob.\n",
    "# La fonction retourne le circuit ainsi construit.\n",
    "def build_bob_measure_circuit(index, bob_bases, qc):    \n",
    "    if bob_bases[index] == \"x\":\n",
    "        qc.h([0])\n",
    "    elif bob_bases[index] == \"z\":\n",
    "        pass\n",
    "    qc.measure(0,0)\n",
    "    return qc\n",
    "\n",
    "bob_bits = bb84()        \n",
    "print('Bob\\'s bits: ', bob_bits)\n"
   ]
  },
  {
   "cell_type": "markdown",
   "metadata": {},
   "source": [
    "### After Bob made his measurement, Alice and Bob share their bases: \n"
   ]
  },
  {
   "cell_type": "code",
   "execution_count": 5,
   "metadata": {},
   "outputs": [
    {
     "name": "stdout",
     "output_type": "stream",
     "text": [
      "alice_bases =  xxzzzxxzzzzxzxzxxxzxxzxxxxxzxzxxzzzxzzzzxzxzxzzzxzxxzxxzxzxxxxzxxxxzzxxxxxxxxzzxxxxxzzzzxxxxzzzzxxzzxzzzzzzzxxxxxxxxzxxzxzzzxzxxzxxxxzzzxzzzxxxzzzxxzxxxxxxxxzzxzxzxxzzzzzxxxxxzzxzxxxzzxzzzzxzzxxxxxzzxzxxxzzxzzxxxzzzzxxzzxxxzxzzzxzxxxxxxzxzxzzxxxxxzzxxzxzxxzxxxzzzxxzxxxzxzzzxxxzzzxxzxzzxxxzzxzzxzxxxxzzxzxzxxzzxxxxzxxxxxxxxzzxxzxxzzxxzxzxxxxxzzzzzzxxzzzzzzzxxxxxxxzzxzzzzzzxxzxxxzzxxzzzzzxzxxzxxxzzzzxxzxxxzzzzzzxzzxzxxxxzzxxzxxxzxzxxzzxxzxzxzzxzxxzxzzxxxxzzzzzxzxxzxxxzxxxxxxzxxzxzxxxzxxxxxzxxzxxzxzxzxxzzxzzxzzzzxxzzxzzxzzzzzzxzzxxzxxzzxzxxzxzxxzzzxzzzzxzxzxzxxxxzxzxxzxxzzzzxxzzxxzxxzxzxzzxxzxxxzzzzxxzzzxzxzzxxzxzxxxzzxzxzxxxzxzzzzxxxzxzxzxxxxzzzzxxzzxzzxxzxxxxzxzzxzxzxxxzxzzxzxxzxxxzzzxzxxzzxxzzxxxxxzxxzxxzxxxxxzxxxxzzxxxxzxzxxxzxzxzxxxxxzzxzxxxzxzxzzzzzxxxzxzzxzzzxxxzxxzxzxzzzxxzzxzxxzxxxzxzzzxzzxxxxxzxzxzxxzxxxxzzzxzzxxxxzxxxzxzzxzzxxzxzxzxzzzzzxzzzxzzxzxzzzxxzxxxzzxxzxxzzxxxxxzxxxxxxxzzxzxxzxzxxzzxxzxzxxzxxzxxxxzxzxzzzzzzxzxzxxxzzzxzxxxzzxzzxxxzzzzxzxxxxxzzzxxxxxzxxxzzxxxzzxxzzzzzzzzxxzzxxzzxzzzxxzzzzxxxzxxxxxzzxxxxxzzzzzzzxxxxxzxzxxzzxzxzzzzzxxzzxxxzxzxxxxxxxxzzzzzxxzxxxxzzxxzxxzzxxxzxxzzxzxzxzzzzzzzzzzxzxzzzzzzxzzzxzxxzxxxzxzxxxxxxxxxzxzxzzzxzxxxzzxxxxxxzzzxxxzxxxzxzxxxzxzxzxxxzzxzxxzxzzzzzxzzzxxzxxxzzxzxxzzxxxzzxxzxxzxxzxzzzzxzzxzzzxxxzxxzzxzzxzzzzzxzxxxzzxzzxzxxxxxxxzzzxzzxxzzzzzzzxzzzzxxxxxzzxzzzzzxxzzzxzzzzxxxzzxxxxzzzxxxzxzxxxxzzxzzzxxzzxxxxzxzzxxzzzzxxzxxxzxxzxzxzxzxzzzxzxzxxzzxzzxxxzxxzxxzxzxxzxzzzzzzzzzzzxxxxxzzzzzxxzzxzxxxxxzxzzxzxzxzzzzzzzzxxxzxzzzzzzzzxzxzxxzzzzx \n",
      "\n",
      "bob_bases   =  xzzzxzxxxzzzxzxxzxxzzxzxzzzzxxzzzxxxzxzzxzzzzxxxzzzxzxzzxzxxxzzxzxzzxxzxzxzxzzzzzxzzzxxzxxxzzzxzzxxzxzxxxxzzzzzxxzzxzzxxxxzxxxxxxzzzxzzzzzxxxxzzxxxzxzxxxzzzzzxzzzzzzzxzzzxzxxxxzzzxzxxzxxxxxzzxxzzzzxxxxzxxzxxxxzzxzzzxxxzzzxxxzzzxxxzzxxxzxzzzzzxzxzxxzzxxxxxzxxxxxxxzzxzzzzzzxxxzzxzzxxzxxzxzxzxzzzxxzzxzxxzxxzzxxzzxxxxxxzxxzzxxzzzxxxzzxxxzzzzxxzzxxxzxxxxxxxzzxzxzzxxzxzxzxzxxxxzzxxzxzzxxzzxxzxzxxxxxxzzzzxxxzxzzxzzxxxxxzxzzxxzzxzxzzzxxxxxxxxxxxxxxxxxxzxxxxzzxzxzzxzxxxzxzxxxxxzzzzzzxzzxxzxxzxzxxzzzxxxxxzzzzzxzxzzxxxxzxxxzzxzxxxxzzzzzzzzzxzxzzzxxzzzxxxxzxzzzzxzxzzzxxzxxzxzzxzxxzxzzxzzxxzzzzxxzxzxxxxxzxzxzxxxxxxxzzxxxxzzzxxxzzxzzzxxxzzzxzxxxzzzzxxxxxxzzxzxzxzzxzxzxzxxxxxxxzzxxxzxzxzxxzzzxzzxxzxzxzzxxxxxxzxxxzzxzxzxxxxxzzzxxxxxxzzzxzxzxxzxzxzxzzxzzxzzzzzxxzzxzzzzzxxxzxxzzzxzzzxxxxxzzzxxzxzxxxxxzzxzxxzzxxzxxxxzxxxzxxzxzzxzxxxzzxxzxxxzzzzxzzzzxzxxzzxxxzzzxzxzzxxxzzxxxzzzxxxzzzxzzxzxzzzzzzzzxzxzzzxxxzzxzzzzzxzxxzzxxzzzxxxzxxxxxxxxxzzxzzzxxzzzzxxxzzzxzxzzxxxxxzzzxzzzzzxxzxzzxxzzzxxzxzzxzxzxzxxzzxzxzxzxzxxxxzzxzzzxxxxzzzxzxxxzxzzxxzxzzzzzzxxxzzxxzzzxxzxzxzzzxzzxxxzxxxzxxxxzzxzxxzxxzzxzxxzxxxxzxzxxxxzzzzzxxxxzxzzxxxzzxxxxzzzxzzxzxxzzzzzxxxzzxxzxxxzxzzxxxxxxzzzzxxxxzzzzxzxxzxxxxxzzxxzzxzxxzzzzzxzxxxxxxxxxxzzxxxxzzzzzzzxzzxzxzxxzxzzxxxxxzzxxxxxzxxxzxxxxxxzzzxxzzxxxzzxxzxzxzzxxxxxxzzzxxxzzxxxzxxxxzxxxxxxzxxzxxzxxxxzxzzzzzxxzzzzzxzxzzzzxzxxzzzzxxxxzxxzxxxzxzxxzzzzzzxzzxxzxzzzxxzxzxxzxzzzzxxzzxzzzxxzxxzxxxxzxzzxzzzzzxzxxzxxzxzzxxxzzzzxzxxxzxxzzzxzxxzzzxxzxzxzzxzxzzxzxzxxxxzxxzxzzzzzxxzzzxzzxxxxzxx\n"
     ]
    }
   ],
   "source": [
    "print(\"alice_bases = \", alice_bases, \"\\n\")\n",
    "print(\"bob_bases   = \", bob_bases)\n",
    "# l'échange des bases peut aussi avoir été espionné, et dans ce cas, si Eve a aussi\n",
    "# mesuré les qubits, elle peut reconstituer la clef. Mais Alice et Bob sauront qu'ils \n",
    "# ont été écoutés et devront changer leur canal de communication."
   ]
  },
  {
   "cell_type": "markdown",
   "metadata": {},
   "source": [
    "### Now Alice and Bob can construct their key :\n",
    "They will keep only the bits corresponding to index where the bases were identical. \n"
   ]
  },
  {
   "cell_type": "code",
   "execution_count": 6,
   "metadata": {
    "scrolled": true
   },
   "outputs": [
    {
     "name": "stdout",
     "output_type": "stream",
     "text": [
      "alice_key = 011100101010010101100011100001100100101011101111111010101000111000101011000111000011110101110010010010010001010110111101000101110000101000111000000110000001110000110011011100100111100101010000011110111110011101001000110001101011000101011111110110010110101110111010011010000001100010100010111001100101100111111101011000110011010001010111110001001001101010000101011000000111011010001100100010001000011110101010111101100000000111000100110011100101010101100000110100111001000001001011011011010110110100001000110010001000100111011110110011110001001010001010001100000000110000011001110101100001010111001001001110011111001101110011110111011100010100000111100100010011001101110110101001101000011011111101100100110101101110111111011111011000000110010100001000111011001001001001100001111000111000010111100011111010010110100100100000010100111101000000101100111001000111111111111110000101010100111010111100011000011111110010100100000011010100100011100110110101100011100111010010100101010011011110000100010001110001100111011011000001101111010101000111010010001100111000011010110010100010110101110000111110010111001011001010100100101101000101011101000011101101110011110101001001000100110001000000011100001111100100111001010111011001111001100101110100101100000001001100111100111011000111001001010101100111011011001111011100110101110110111010011000110011100111010101101010001010001100001101000011001111011100001001100100110010000000001000110110111111110000101000100111110000110100011110100000110011100101010001011000\n",
      "alice_bases =  xxzzzxxzzzzxzxzxxxzxxzxxxxxzxzxxzzzxzzzzxzxzxzzzxzxxzxxzxzxxxxzxxxxzzxxxxxxxxzzxxxxxzzzzxxxxzzzzxxzzxzzzzzzzxxxxxxxxzxxzxzzzxzxxzxxxxzzzxzzzxxxzzzxxzxxxxxxxxzzxzxzxxzzzzzxxxxxzzxzxxxzzxzzzzxzzxxxxxzzxzxxxzzxzzxxxzzzzxxzzxxxzxzzzxzxxxxxxzxzxzzxxxxxzzxxzxzxxzxxxzzzxxzxxxzxzzzxxxzzzxxzxzzxxxzzxzzxzxxxxzzxzxzxxzzxxxxzxxxxxxxxzzxxzxxzzxxzxzxxxxxzzzzzzxxzzzzzzzxxxxxxxzzxzzzzzzxxzxxxzzxxzzzzzxzxxzxxxzzzzxxzxxxzzzzzzxzzxzxxxxzzxxzxxxzxzxxzzxxzxzxzzxzxxzxzzxxxxzzzzzxzxxzxxxzxxxxxxzxxzxzxxxzxxxxxzxxzxxzxzxzxxzzxzzxzzzzxxzzxzzxzzzzzzxzzxxzxxzzxzxxzxzxxzzzxzzzzxzxzxzxxxxzxzxxzxxzzzzxxzzxxzxxzxzxzzxxzxxxzzzzxxzzzxzxzzxxzxzxxxzzxzxzxxxzxzzzzxxxzxzxzxxxxzzzzxxzzxzzxxzxxxxzxzzxzxzxxxzxzzxzxxzxxxzzzxzxxzzxxzzxxxxxzxxzxxzxxxxxzxxxxzzxxxxzxzxxxzxzxzxxxxxzzxzxxxzxzxzzzzzxxxzxzzxzzzxxxzxxzxzxzzzxxzzxzxxzxxxzxzzzxzzxxxxxzxzxzxxzxxxxzzzxzzxxxxzxxxzxzzxzzxxzxzxzxzzzzzxzzzxzzxzxzzzxxzxxxzzxxzxxzzxxxxxzxxxxxxxzzxzxxzxzxxzzxxzxzxxzxxzxxxxzxzxzzzzzzxzxzxxxzzzxzxxxzzxzzxxxzzzzxzxxxxxzzzxxxxxzxxxzzxxxzzxxzzzzzzzzxxzzxxzzxzzzxxzzzzxxxzxxxxxzzxxxxxzzzzzzzxxxxxzxzxxzzxzxzzzzzxxzzxxxzxzxxxxxxxxzzzzzxxzxxxxzzxxzxxzzxxxzxxzzxzxzxzzzzzzzzzzxzxzzzzzzxzzzxzxxzxxxzxzxxxxxxxxxzxzxzzzxzxxxzzxxxxxxzzzxxxzxxxzxzxxxzxzxzxxxzzxzxxzxzzzzzxzzzxxzxxxzzxzxxzzxxxzzxxzxxzxxzxzzzzxzzxzzzxxxzxxzzxzzxzzzzzxzxxxzzxzzxzxxxxxxxzzzxzzxxzzzzzzzxzzzzxxxxxzzxzzzzzxxzzzxzzzzxxxzzxxxxzzzxxxzxzxxxxzzxzzzxxzzxxxxzxzzxxzzzzxxzxxxzxxzxzxzxzxzzzxzxzxxzzxzzxxxzxxzxxzxzxxzxzzzzzzzzzzzxxxxxzzzzzxxzzxzxxxxxzxzzxzxzxzzzzzzzzxxxzxzzzzzzzzxzxzxxzzzzx\n",
      "bob_bases =  xzzzxzxxxzzzxzxxzxxzzxzxzzzzxxzzzxxxzxzzxzzzzxxxzzzxzxzzxzxxxzzxzxzzxxzxzxzxzzzzzxzzzxxzxxxzzzxzzxxzxzxxxxzzzzzxxzzxzzxxxxzxxxxxxzzzxzzzzzxxxxzzxxxzxzxxxzzzzzxzzzzzzzxzzzxzxxxxzzzxzxxzxxxxxzzxxzzzzxxxxzxxzxxxxzzxzzzxxxzzzxxxzzzxxxzzxxxzxzzzzzxzxzxxzzxxxxxzxxxxxxxzzxzzzzzzxxxzzxzzxxzxxzxzxzxzzzxxzzxzxxzxxzzxxzzxxxxxxzxxzzxxzzzxxxzzxxxzzzzxxzzxxxzxxxxxxxzzxzxzzxxzxzxzxzxxxxzzxxzxzzxxzzxxzxzxxxxxxzzzzxxxzxzzxzzxxxxxzxzzxxzzxzxzzzxxxxxxxxxxxxxxxxxxzxxxxzzxzxzzxzxxxzxzxxxxxzzzzzzxzzxxzxxzxzxxzzzxxxxxzzzzzxzxzzxxxxzxxxzzxzxxxxzzzzzzzzzxzxzzzxxzzzxxxxzxzzzzxzxzzzxxzxxzxzzxzxxzxzzxzzxxzzzzxxzxzxxxxxzxzxzxxxxxxxzzxxxxzzzxxxzzxzzzxxxzzzxzxxxzzzzxxxxxxzzxzxzxzzxzxzxzxxxxxxxzzxxxzxzxzxxzzzxzzxxzxzxzzxxxxxxzxxxzzxzxzxxxxxzzzxxxxxxzzzxzxzxxzxzxzxzzxzzxzzzzzxxzzxzzzzzxxxzxxzzzxzzzxxxxxzzzxxzxzxxxxxzzxzxxzzxxzxxxxzxxxzxxzxzzxzxxxzzxxzxxxzzzzxzzzzxzxxzzxxxzzzxzxzzxxxzzxxxzzzxxxzzzxzzxzxzzzzzzzzxzxzzzxxxzzxzzzzzxzxxzzxxzzzxxxzxxxxxxxxxzzxzzzxxzzzzxxxzzzxzxzzxxxxxzzzxzzzzzxxzxzzxxzzzxxzxzzxzxzxzxxzzxzxzxzxzxxxxzzxzzzxxxxzzzxzxxxzxzzxxzxzzzzzzxxxzzxxzzzxxzxzxzzzxzzxxxzxxxzxxxxzzxzxxzxxzzxzxxzxxxxzxzxxxxzzzzzxxxxzxzzxxxzzxxxxzzzxzzxzxxzzzzzxxxzzxxzxxxzxzzxxxxxxzzzzxxxxzzzzxzxxzxxxxxzzxxzzxzxxzzzzzxzxxxxxxxxxxzzxxxxzzzzzzzxzzxzxzxxzxzzxxxxxzzxxxxxzxxxzxxxxxxzzzxxzzxxxzzxxzxzxzzxxxxxxzzzxxxzzxxxzxxxxzxxxxxxzxxzxxzxxxxzxzzzzzxxzzzzzxzxzzzzxzxxzzzzxxxxzxxzxxxzxzxxzzzzzzxzzxxzxzzzxxzxzxxzxzzzzxxzzxzzzxxzxxzxxxxzxzzxzzzzzxzxxzxxzxzzxxxzzzzxzxxxzxxzzzxzxxzzzxxzxzxzzxzxzzxzxzxxxxzxxzxzzzzzxxzzzxzzxxxxzxx\n",
      "bot_bits = 001100100010110111010011111000100100111011101101011010101000111000000011000111010010110101110010110010100001110111011001010001110011101000011000100110000011010100101011011100100011000101001101001001010110011111001001110001100010011101010010110011010111111100110101000110101101010010101010110101101100111011111111011001111010000001010100111000010100100100000101011110001111110010001101101010100000111110001010011101100011010011000100110011000110010101100000110100111001000000101011011011010110000101000000101010000000111101110010010011010101100011010011001011110000000000010011000100100100010101001000011101011111001100111111111010011110010100000111100110010010111101100111101001110001011110010001100110100110100110111111011011011000010000001101001001101000011001001001100001011000011010110101110111101011010110000010001001001101101110100000100000111001000111111110111111000101110110111011111100101100011101010111100000000011010001000010100011101101000001000101010011010101010001111110100110001001110001001111001011100111101111100100000111010011001011011100010110010010100011010011001111111110010010001001001010100011100011010001011101000001010101111001110111001101000111100001100001011011001011100101111001110011011101011001100011100000001100100011000100110100111001100110011000010111000111001010001110011101111001110100111110011110110011100101000101100010001000001100101100010111000101010101101001001100111101010100101010110110111011111000101000110111010000001100101110100000110111100011000101000010\n",
      "key =  01110111100001101101010010001100001011001101100010100111110000111010010000001010101100101101000110010100110011010010111010011101100000101001110110111110100111001010110000100001100011010101000001110001011000000110101111010010100101110000001110001010001101101011010100010000000110101010100011111001011111011101000011001010011011101001100110110001011101111111100000010010010010000010000110010001111111010101100001110000001101001111111110010111101011110110000110000011011000100110100000011110000001000110101111111000111010001001100100011111001000001101001010001110100110111011110011000110000000011001110111011011111001101000010000001100111001011001001010101110011110110110010010110100011010010110100101001100001011011011111000110011110001111101111001001000\n",
      "longueur de la clef 752\n"
     ]
    }
   ],
   "source": [
    "key = \"\"\n",
    "#\n",
    "for i in range(bases_length):\n",
    "    if bob_bases[i] == alice_bases[i]: \n",
    "        key += bob_bits[i]\n",
    "print(\"alice_key =\", alice_key)\n",
    "print(\"alice_bases = \", alice_bases)\n",
    "print(\"bob_bases = \", bob_bases)\n",
    "print(\"bot_bits =\", bob_bits)\n",
    "\n",
    "print(\"key = \", key)\n",
    "print(\"longueur de la clef\", len(key))\n"
   ]
  },
  {
   "cell_type": "markdown",
   "metadata": {},
   "source": [
    "### Now Alice can use the key to encode her message : \n",
    "\n",
    "execute the following cell"
   ]
  },
  {
   "cell_type": "code",
   "execution_count": 7,
   "metadata": {},
   "outputs": [
    {
     "name": "stdout",
     "output_type": "stream",
     "text": [
      "101011101010101111100001001010010011101000001011110010110110111100010000010111110010100110110111110011101000100010110111000011101100111000111011011001110011101001111001100100000010000001110110010111011010100100000001100000001100110100100110110001100101101000000111100010100111111001111010001101000100110001000010000110010000101110101101000111000011101001010011011100010001110010010101001000110101000110000011011010101110001000111\n",
      "429\n"
     ]
    }
   ],
   "source": [
    "mess = BB84HO.code(BB84HO.alice_message_clair, key)\n",
    "\n",
    "print(mess)\n",
    "print(len(mess))"
   ]
  },
  {
   "cell_type": "markdown",
   "metadata": {},
   "source": [
    "### Function to decode the message using the key: "
   ]
  },
  {
   "cell_type": "code",
   "execution_count": 8,
   "metadata": {},
   "outputs": [
    {
     "name": "stdout",
     "output_type": "stream",
     "text": [
      "message : 101011101010101111100001001010010011101000001011110010110110111100010000010111110010100110110111110011101000100010110111000011101100111000111011011001110011101001111001100100000010000001110110010111011010100100000001100000001100110100100110110001100101101000000111100010100111111001111010001101000100110001000010000110010000101110101101000111000011101001010011011100010001110010010101001000110101000110000011011010101110001000111\n",
      "429\n",
      "clef : 011101111000011011010100100011000010110011011000101001111100001110100100000010101011001011010001100101001100110100101110100111011000001010011101101111101001110010101100001000011000110101010000011100010110000001101011110100101001011100000011100010100011011010110101000100000001101010101000111110010111110111010000110010100110111010011001101100010111011111111000000100100100100000100001100100011111110101011000011100000011010011111\n",
      "clair   : 110110010010110100110101101001010001011011010011011011001010110010110100010101011001101101100110010110100100010110011001100100110100110010100110110110011010011011010101101100011010110100100110001011001100100101101010010100100101101000100101010011000110110010110010100110100110010011010010110011010011000110010010110100110110010100110100101011010100110110101011011000110101010010110100101100101010110011011011000110101101011011\n"
     ]
    }
   ],
   "source": [
    "#mess = BB84HO.alice_message  # ceci est le message encrypté par Alice, avec la clef\n",
    "print(\"message :\", mess)\n",
    "print(len(mess))\n",
    "\n",
    "def decode(message,clef):\n",
    "    # 1 on vérifie que la clef est assez longue.\n",
    "    # 2 on calcule le ou exclusif bit à bit dans un nouveau string. \n",
    "    if len(message) > len(clef):\n",
    "        print(\"la clef est trop courte, recommencez\")\n",
    "        return\n",
    "    else: \n",
    "        clef = clef[0:len(message)]\n",
    "        print(\"clef :\", clef)\n",
    "        clair = \"\"\n",
    "        for i in range(len(message)):\n",
    "            clair += str((int(clef[i]) + int(message[i])) % 2)\n",
    "        return clair\n",
    "   \n",
    "    \n",
    "clair = decode(mess,key)\n",
    "clair = clair.rstrip(\"0\")\n",
    "print(\"clair   :\" ,clair)"
   ]
  },
  {
   "cell_type": "markdown",
   "metadata": {},
   "source": [
    "Message is in morse code :\n",
    "\n",
    "- point : '1' (\"ti\")\n",
    "- dash : '11' (\"ta\")\n",
    "- separator : '0'\n",
    "- letter separator :  '00'\n",
    "- word separator: '000'.\n",
    "\n",
    "For example :\n",
    "<img src=\"qiskit_morse.png\" alt=\"drawing\" width=\"500\"/>"
   ]
  },
  {
   "cell_type": "markdown",
   "metadata": {},
   "source": [
    "### Try and decode Alice message  !\n",
    "\n",
    "You may \"split\" the string into a word list `texte.split(\"000\")`, then split words into letters with `mot.split(\"00\")`, finally split letters into signs (\"ti\" and \"ta\"), then pick up each letter from the provided dictionnary to display the message. \n"
   ]
  },
  {
   "cell_type": "code",
   "execution_count": 24,
   "metadata": {},
   "outputs": [
    {
     "name": "stdout",
     "output_type": "stream",
     "text": [
      " merci pour votre attention, cet atelier est maintenant terminé, bravo !\n"
     ]
    }
   ],
   "source": [
    "M = { '.-':'a', '-...':'b', '-.-.':'c', '-..':'d', '.':'e', '..-.':'f', '--.':'g', \n",
    "     '....':'h', '..':'i', '.---':'j', '-.-':'k', '.-..':'l', '--':'m', '-.':'n',\n",
    "     '---':'o', '.--.':'p', '--.-':'q', '.-.':'r', '...':'s', '-':'t', '..-':'u',\n",
    "     '...-':'v', '.--':'w', '-..-':'x', '-.--':'y', '--..':'z', '.----':'1', \n",
    "     '..---':'2', '...--':'3', '....-':'4', '.....':'5', '-....':'6', '--...':'7',\n",
    "     '---..':'8', '----.':'9', '-----':'0', '--..--':',', '.-.-.-':'.', '..--..':'?',\n",
    "     '-..-.':'/', '-....-':'-', '--..--':',', '---...':':', '-.--.':'(', '-.--.-':')',\n",
    "     '..-..':'é','.--.-':'à', '-.-.--':'!'} \n",
    "\n",
    "mots = []\n",
    "lettres = []\n",
    "signes = []\n",
    "\n",
    "phrase_clair = \"\"\n",
    "mots = clair.split('000')\n",
    "for mot in mots:\n",
    "    mot_clair = \" \"\n",
    "    lettres = mot.split('00')\n",
    "    for lettre in lettres:\n",
    "        lettre_morse = \"\"\n",
    "        signes = lettre.split('0')\n",
    "        for signe in signes:\n",
    "            if signe == '11':\n",
    "                lettre_morse += \"-\"\n",
    "            elif signe == '1':\n",
    "                lettre_morse += \".\"\n",
    "        lettre_clair = M.get(lettre_morse,'*')\n",
    "        mot_clair += lettre_clair\n",
    "    phrase_clair += mot_clair\n",
    "print(phrase_clair)\n"
   ]
  },
  {
   "cell_type": "code",
   "execution_count": null,
   "metadata": {},
   "outputs": [],
   "source": [
    "def code_morse(text):\n",
    "    morse_output = \"\"\n",
    "    mots = text.split(' ')\n",
    "    for s in mots:\n",
    "        for c in s: \n",
    "            morse = MORSE_DICT.get(c)\n",
    "            for m in morse:\n",
    "                if m == '.':\n",
    "                    morse_output += '10'\n",
    "                elif m == \"-\":\n",
    "                    morse_output += '110'\n",
    "            morse_output += \"0\"\n",
    "        morse_output += \"0\"\n",
    "    return morse_output\n",
    "\n",
    "m = code_morse(\"merci pour votre attention, cet atelier est maintenant terminé, bravo !\")\n",
    "print(m)"
   ]
  }
 ],
 "metadata": {
  "kernelspec": {
   "display_name": "Python 3",
   "language": "python",
   "name": "python3"
  },
  "language_info": {
   "codemirror_mode": {
    "name": "ipython",
    "version": 3
   },
   "file_extension": ".py",
   "mimetype": "text/x-python",
   "name": "python",
   "nbconvert_exporter": "python",
   "pygments_lexer": "ipython3",
   "version": "3.7.3"
  }
 },
 "nbformat": 4,
 "nbformat_minor": 4
}
